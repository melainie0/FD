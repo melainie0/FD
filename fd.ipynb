{
 "cells": [
  {
   "cell_type": "code",
   "execution_count": 2,
   "metadata": {},
   "outputs": [],
   "source": [
    "import cv2\n",
    "import face_recognition"
   ]
  },
  {
   "cell_type": "code",
   "execution_count": 3,
   "metadata": {},
   "outputs": [],
   "source": [
    "\n",
    "# Open the camera\n",
    "video_capture = cv2.VideoCapture(0)\n",
    "\n",
    "# Load your new reference image\n",
    "reference_image = face_recognition.load_image_file(r\"C:\\xampp\\htdocs\\FD\\image\\iu.jpg\")\n",
    "reference_face_encoding = face_recognition.face_encodings(reference_image)[0]\n",
    "\n",
    "while True:\n",
    "    # Capture a frame from the camera\n",
    "    ret, frame = video_capture.read()\n",
    "\n",
    "    # Find all face locations in the frame\n",
    "    face_locations = face_recognition.face_locations(frame)\n",
    "\n",
    "    # If faces are found, compare them to the reference image\n",
    "    if face_locations:\n",
    "        # Encode faces in the frame\n",
    "        face_encodings = face_recognition.face_encodings(frame, face_locations)\n",
    "\n",
    "        # Compare each face encoding to the reference encoding\n",
    "        for face_encoding in face_encodings:\n",
    "            # Compare the current face with the reference face\n",
    "            match = face_recognition.compare_faces([reference_face_encoding], face_encoding)\n",
    "\n",
    "            # Draw a rectangle around the face based on the match\n",
    "            top, right, bottom, left = face_locations[0]\n",
    "            color = (0, 255, 0) if match[0] else (0, 0, 255)\n",
    "            cv2.rectangle(frame, (left, top), (right, bottom), color, 2)\n",
    "\n",
    "    # Display the resulting frame\n",
    "    cv2.imshow('Video', frame)\n",
    "\n",
    "    # Break the loop when 'q' is pressed\n",
    "    if cv2.waitKey(1) & 0xFF == ord('q'):\n",
    "        break\n",
    "\n",
    "# Release the camera and close OpenCV windows\n",
    "video_capture.release()\n",
    "cv2.destroyAllWindows()"
   ]
  }
 ],
 "metadata": {
  "kernelspec": {
   "display_name": "myenv",
   "language": "python",
   "name": "python3"
  },
  "language_info": {
   "codemirror_mode": {
    "name": "ipython",
    "version": 3
   },
   "file_extension": ".py",
   "mimetype": "text/x-python",
   "name": "python",
   "nbconvert_exporter": "python",
   "pygments_lexer": "ipython3",
   "version": "3.7.16"
  },
  "orig_nbformat": 4
 },
 "nbformat": 4,
 "nbformat_minor": 2
}
